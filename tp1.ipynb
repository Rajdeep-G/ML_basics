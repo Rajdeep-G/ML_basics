{
  "nbformat": 4,
  "nbformat_minor": 0,
  "metadata": {
    "colab": {
      "name": "tp1.ipynb",
      "provenance": [],
      "collapsed_sections": [],
      "authorship_tag": "ABX9TyOABBnscYBhtGxk1gNM4ZaV",
      "include_colab_link": true
    },
    "kernelspec": {
      "name": "python3",
      "display_name": "Python 3"
    }
  },
  "cells": [
    {
      "cell_type": "markdown",
      "metadata": {
        "id": "view-in-github",
        "colab_type": "text"
      },
      "source": [
        "<a href=\"https://colab.research.google.com/github/Rajdeep-G/ML_basics/blob/master/tp1.ipynb\" target=\"_parent\"><img src=\"https://colab.research.google.com/assets/colab-badge.svg\" alt=\"Open In Colab\"/></a>"
      ]
    },
    {
      "cell_type": "markdown",
      "metadata": {
        "id": "Y2f6wa49r7Uq",
        "colab_type": "text"
      },
      "source": [
        "Importing Libraries"
      ]
    },
    {
      "cell_type": "code",
      "metadata": {
        "id": "7j3RvrgznWK4",
        "colab_type": "code",
        "colab": {}
      },
      "source": [
        "import pandas as pd\n",
        "import matplotlib.pyplot as plt\n",
        "import numpy as np\n",
        "from scipy.sparse import csr_matrix\n",
        "from mpl_toolkits.axes_grid1 import make_axes_locatable\n",
        "from sklearn.cluster import KMeans\n",
        "from sklearn.metrics import mean_squared_error\n",
        "import itertools\n",
        "from sklearn.metrics import silhouette_samples, silhouette_score\n",
        "%matplotlib inline"
      ],
      "execution_count": null,
      "outputs": []
    },
    {
      "cell_type": "markdown",
      "metadata": {
        "id": "73joujcfsmgD",
        "colab_type": "text"
      },
      "source": [
        "Importing the csv files"
      ]
    },
    {
      "cell_type": "code",
      "metadata": {
        "id": "r_CMKOAXspHM",
        "colab_type": "code",
        "colab": {
          "base_uri": "https://localhost:8080/",
          "height": 195
        },
        "outputId": "f84f7cac-4608-4947-d28e-55de4b7184c4"
      },
      "source": [
        "movies = pd.read_csv('movies.csv')\n",
        "movies.head()\n",
        "ratings = pd.read_csv('ratings.csv')\n",
        "ratings.head()"
      ],
      "execution_count": null,
      "outputs": [
        {
          "output_type": "execute_result",
          "data": {
            "text/html": [
              "<div>\n",
              "<style scoped>\n",
              "    .dataframe tbody tr th:only-of-type {\n",
              "        vertical-align: middle;\n",
              "    }\n",
              "\n",
              "    .dataframe tbody tr th {\n",
              "        vertical-align: top;\n",
              "    }\n",
              "\n",
              "    .dataframe thead th {\n",
              "        text-align: right;\n",
              "    }\n",
              "</style>\n",
              "<table border=\"1\" class=\"dataframe\">\n",
              "  <thead>\n",
              "    <tr style=\"text-align: right;\">\n",
              "      <th></th>\n",
              "      <th>userId</th>\n",
              "      <th>movieId</th>\n",
              "      <th>rating</th>\n",
              "      <th>timestamp</th>\n",
              "    </tr>\n",
              "  </thead>\n",
              "  <tbody>\n",
              "    <tr>\n",
              "      <th>0</th>\n",
              "      <td>1</td>\n",
              "      <td>296</td>\n",
              "      <td>5.0</td>\n",
              "      <td>1147880044</td>\n",
              "    </tr>\n",
              "    <tr>\n",
              "      <th>1</th>\n",
              "      <td>1</td>\n",
              "      <td>306</td>\n",
              "      <td>3.5</td>\n",
              "      <td>1147868817</td>\n",
              "    </tr>\n",
              "    <tr>\n",
              "      <th>2</th>\n",
              "      <td>1</td>\n",
              "      <td>307</td>\n",
              "      <td>5.0</td>\n",
              "      <td>1147868828</td>\n",
              "    </tr>\n",
              "    <tr>\n",
              "      <th>3</th>\n",
              "      <td>1</td>\n",
              "      <td>665</td>\n",
              "      <td>5.0</td>\n",
              "      <td>1147878820</td>\n",
              "    </tr>\n",
              "    <tr>\n",
              "      <th>4</th>\n",
              "      <td>1</td>\n",
              "      <td>899</td>\n",
              "      <td>3.5</td>\n",
              "      <td>1147868510</td>\n",
              "    </tr>\n",
              "  </tbody>\n",
              "</table>\n",
              "</div>"
            ],
            "text/plain": [
              "   userId  movieId  rating   timestamp\n",
              "0       1      296     5.0  1147880044\n",
              "1       1      306     3.5  1147868817\n",
              "2       1      307     5.0  1147868828\n",
              "3       1      665     5.0  1147878820\n",
              "4       1      899     3.5  1147868510"
            ]
          },
          "metadata": {
            "tags": []
          },
          "execution_count": 2
        }
      ]
    },
    {
      "cell_type": "markdown",
      "metadata": {
        "id": "nmKsFbws6bzV",
        "colab_type": "text"
      },
      "source": [
        ""
      ]
    },
    {
      "cell_type": "code",
      "metadata": {
        "id": "z3ANqfjR4v4o",
        "colab_type": "code",
        "colab": {
          "base_uri": "https://localhost:8080/",
          "height": 34
        },
        "outputId": "647d1d71-2fa1-49dc-8b0a-29f0cd59296e"
      },
      "source": [
        "print('The dataset contains: ', len(ratings), ' ratings of ', len(movies), ' movies.')"
      ],
      "execution_count": 5,
      "outputs": [
        {
          "output_type": "stream",
          "text": [
            "The dataset contains:  291003  ratings of  62423  movies.\n"
          ],
          "name": "stdout"
        }
      ]
    },
    {
      "cell_type": "markdown",
      "metadata": {
        "id": "YmPB_-ki6c81",
        "colab_type": "text"
      },
      "source": [
        "# Function to get the genre ratings"
      ]
    },
    {
      "cell_type": "code",
      "metadata": {
        "id": "tnwFU1O655Z8",
        "colab_type": "code",
        "colab": {}
      },
      "source": [
        "def get_genre_ratings(ratings, movies, genres, column_names):\n",
        "    genre_ratings = pd.DataFrame()\n",
        "    for genre in genres:        \n",
        "        genre_movies = movies[movies['genres'].str.contains(genre) ]\n",
        "        avg_genre_votes_per_user = ratings[ratings['movieId'].isin(genre_movies['movieId'])].loc[:, ['userId', 'rating']].groupby(['userId'])['rating'].mean().round(2)\n",
        "        \n",
        "        genre_ratings = pd.concat([genre_ratings, avg_genre_votes_per_user], axis=1)\n",
        "        \n",
        "    genre_ratings.columns = column_names\n",
        "    return genre_ratings"
      ],
      "execution_count": 6,
      "outputs": []
    },
    {
      "cell_type": "markdown",
      "metadata": {
        "id": "fSAbykJa6eQq",
        "colab_type": "text"
      },
      "source": [
        "# Calculate the average rating of romance and scifi movies"
      ]
    },
    {
      "cell_type": "code",
      "metadata": {
        "id": "L6e-Cg7K5_eK",
        "colab_type": "code",
        "colab": {
          "base_uri": "https://localhost:8080/",
          "height": 195
        },
        "outputId": "a6cd1bce-2103-48fd-96a3-6714ffdc9cc0"
      },
      "source": [
        "genre_ratings = get_genre_ratings(ratings, movies, ['Romance', 'Sci-Fi'], ['avg_romance_rating', 'avg_scifi_rating'])\n",
        "genre_ratings.head()"
      ],
      "execution_count": 7,
      "outputs": [
        {
          "output_type": "execute_result",
          "data": {
            "text/html": [
              "<div>\n",
              "<style scoped>\n",
              "    .dataframe tbody tr th:only-of-type {\n",
              "        vertical-align: middle;\n",
              "    }\n",
              "\n",
              "    .dataframe tbody tr th {\n",
              "        vertical-align: top;\n",
              "    }\n",
              "\n",
              "    .dataframe thead th {\n",
              "        text-align: right;\n",
              "    }\n",
              "</style>\n",
              "<table border=\"1\" class=\"dataframe\">\n",
              "  <thead>\n",
              "    <tr style=\"text-align: right;\">\n",
              "      <th></th>\n",
              "      <th>avg_romance_rating</th>\n",
              "      <th>avg_scifi_rating</th>\n",
              "    </tr>\n",
              "  </thead>\n",
              "  <tbody>\n",
              "    <tr>\n",
              "      <th>1</th>\n",
              "      <td>4.17</td>\n",
              "      <td>3.70</td>\n",
              "    </tr>\n",
              "    <tr>\n",
              "      <th>2</th>\n",
              "      <td>3.16</td>\n",
              "      <td>4.02</td>\n",
              "    </tr>\n",
              "    <tr>\n",
              "      <th>3</th>\n",
              "      <td>3.53</td>\n",
              "      <td>3.70</td>\n",
              "    </tr>\n",
              "    <tr>\n",
              "      <th>4</th>\n",
              "      <td>3.45</td>\n",
              "      <td>3.16</td>\n",
              "    </tr>\n",
              "    <tr>\n",
              "      <th>5</th>\n",
              "      <td>3.55</td>\n",
              "      <td>4.09</td>\n",
              "    </tr>\n",
              "  </tbody>\n",
              "</table>\n",
              "</div>"
            ],
            "text/plain": [
              "   avg_romance_rating  avg_scifi_rating\n",
              "1                4.17              3.70\n",
              "2                3.16              4.02\n",
              "3                3.53              3.70\n",
              "4                3.45              3.16\n",
              "5                3.55              4.09"
            ]
          },
          "metadata": {
            "tags": []
          },
          "execution_count": 7
        }
      ]
    },
    {
      "cell_type": "markdown",
      "metadata": {
        "id": "YXvakrYm6jXY",
        "colab_type": "text"
      },
      "source": [
        "# Function to get the biased dataset"
      ]
    },
    {
      "cell_type": "code",
      "metadata": {
        "id": "dzefqeFe7O1F",
        "colab_type": "code",
        "colab": {
          "base_uri": "https://localhost:8080/",
          "height": 212
        },
        "outputId": "455b3690-eee8-4dd1-fab0-39de042b646f"
      },
      "source": [
        "# Function to get the biased dataset\n",
        "def bias_genre_rating_dataset(genre_ratings, score_limit_1, score_limit_2):\n",
        "    biased_dataset =    genre_ratings[((genre_ratings['avg_romance_rating'] < score_limit_1 - 0.2) & (genre_ratings['avg_scifi_rating'] > score_limit_2)) | ((genre_ratings['avg_scifi_rating'] < score_limit_1) & (genre_ratings['avg_romance_rating'] > score_limit_2))]\n",
        "    biased_dataset = pd.concat([biased_dataset[:300], genre_ratings[:2]])\n",
        "    biased_dataset = pd.DataFrame(biased_dataset.to_records())\n",
        "    return biased_dataset\n",
        "# Bias the dataset\n",
        "biased_dataset = bias_genre_rating_dataset(genre_ratings, 3.2, 2.5)\n",
        "# Printing the resulting number of records & the head of the dataset\n",
        "print( \"Number of records: \", len(biased_dataset))\n",
        "biased_dataset.head()"
      ],
      "execution_count": 8,
      "outputs": [
        {
          "output_type": "stream",
          "text": [
            "Number of records:  302\n"
          ],
          "name": "stdout"
        },
        {
          "output_type": "execute_result",
          "data": {
            "text/html": [
              "<div>\n",
              "<style scoped>\n",
              "    .dataframe tbody tr th:only-of-type {\n",
              "        vertical-align: middle;\n",
              "    }\n",
              "\n",
              "    .dataframe tbody tr th {\n",
              "        vertical-align: top;\n",
              "    }\n",
              "\n",
              "    .dataframe thead th {\n",
              "        text-align: right;\n",
              "    }\n",
              "</style>\n",
              "<table border=\"1\" class=\"dataframe\">\n",
              "  <thead>\n",
              "    <tr style=\"text-align: right;\">\n",
              "      <th></th>\n",
              "      <th>index</th>\n",
              "      <th>avg_romance_rating</th>\n",
              "      <th>avg_scifi_rating</th>\n",
              "    </tr>\n",
              "  </thead>\n",
              "  <tbody>\n",
              "    <tr>\n",
              "      <th>0</th>\n",
              "      <td>4</td>\n",
              "      <td>3.45</td>\n",
              "      <td>3.16</td>\n",
              "    </tr>\n",
              "    <tr>\n",
              "      <th>1</th>\n",
              "      <td>7</td>\n",
              "      <td>4.17</td>\n",
              "      <td>3.00</td>\n",
              "    </tr>\n",
              "    <tr>\n",
              "      <th>2</th>\n",
              "      <td>12</td>\n",
              "      <td>3.42</td>\n",
              "      <td>3.07</td>\n",
              "    </tr>\n",
              "    <tr>\n",
              "      <th>3</th>\n",
              "      <td>27</td>\n",
              "      <td>4.41</td>\n",
              "      <td>3.14</td>\n",
              "    </tr>\n",
              "    <tr>\n",
              "      <th>4</th>\n",
              "      <td>30</td>\n",
              "      <td>2.70</td>\n",
              "      <td>4.21</td>\n",
              "    </tr>\n",
              "  </tbody>\n",
              "</table>\n",
              "</div>"
            ],
            "text/plain": [
              "   index  avg_romance_rating  avg_scifi_rating\n",
              "0      4                3.45              3.16\n",
              "1      7                4.17              3.00\n",
              "2     12                3.42              3.07\n",
              "3     27                4.41              3.14\n",
              "4     30                2.70              4.21"
            ]
          },
          "metadata": {
            "tags": []
          },
          "execution_count": 8
        }
      ]
    },
    {
      "cell_type": "markdown",
      "metadata": {
        "id": "bCoWq9ub6mrd",
        "colab_type": "text"
      },
      "source": [
        ""
      ]
    },
    {
      "cell_type": "code",
      "metadata": {
        "id": "g5vThhjq7678",
        "colab_type": "code",
        "colab": {
          "base_uri": "https://localhost:8080/",
          "height": 252
        },
        "outputId": "71792566-413e-4259-e1a6-b6e5548c78a0"
      },
      "source": [
        "print(biased_dataset)"
      ],
      "execution_count": 11,
      "outputs": [
        {
          "output_type": "stream",
          "text": [
            "     index  avg_romance_rating  avg_scifi_rating\n",
            "0        4                3.45              3.16\n",
            "1        7                4.17              3.00\n",
            "2       12                3.42              3.07\n",
            "3       27                4.41              3.14\n",
            "4       30                2.70              4.21\n",
            "..     ...                 ...               ...\n",
            "297   1105                3.50              2.50\n",
            "298   1106                3.50              2.95\n",
            "299   1110                2.00              4.50\n",
            "300      1                4.17              3.70\n",
            "301      2                3.16              4.02\n",
            "\n",
            "[302 rows x 3 columns]\n"
          ],
          "name": "stdout"
        }
      ]
    },
    {
      "cell_type": "code",
      "metadata": {
        "id": "uSUwwhR08859",
        "colab_type": "code",
        "colab": {
          "base_uri": "https://localhost:8080/",
          "height": 1000
        },
        "outputId": "0140160d-06ff-40ee-9b0a-51d29046de60"
      },
      "source": [
        "X = biased_dataset.iloc[:,1:3].values\n",
        "print(X)"
      ],
      "execution_count": 16,
      "outputs": [
        {
          "output_type": "stream",
          "text": [
            "[[3.45 3.16]\n",
            " [4.17 3.  ]\n",
            " [3.42 3.07]\n",
            " [4.41 3.14]\n",
            " [2.7  4.21]\n",
            " [2.53 2.03]\n",
            " [2.75 2.6 ]\n",
            " [3.53 2.93]\n",
            " [4.2  3.  ]\n",
            " [3.82 3.  ]\n",
            " [4.12 2.83]\n",
            " [3.78 2.5 ]\n",
            " [3.55 2.81]\n",
            " [3.29 3.  ]\n",
            " [3.21 2.99]\n",
            " [3.33 3.  ]\n",
            " [3.29 2.86]\n",
            " [3.   1.  ]\n",
            " [3.57 2.85]\n",
            " [3.97 2.33]\n",
            " [2.75 4.27]\n",
            " [3.53 2.76]\n",
            " [3.82 2.8 ]\n",
            " [4.13 3.08]\n",
            " [3.73 2.89]\n",
            " [3.61 3.18]\n",
            " [3.14 3.  ]\n",
            " [3.4  3.  ]\n",
            " [2.87 2.88]\n",
            " [3.1  2.36]\n",
            " [2.91 2.5 ]\n",
            " [3.33 2.44]\n",
            " [3.16 3.12]\n",
            " [3.33 3.12]\n",
            " [3.33 2.33]\n",
            " [3.25 2.29]\n",
            " [2.5  3.5 ]\n",
            " [3.59 3.  ]\n",
            " [3.94 2.25]\n",
            " [3.53 2.86]\n",
            " [2.64 3.12]\n",
            " [2.75 2.62]\n",
            " [3.33 1.5 ]\n",
            " [3.27 3.17]\n",
            " [3.25 3.  ]\n",
            " [3.05 2.92]\n",
            " [2.5  4.36]\n",
            " [2.75 3.6 ]\n",
            " [3.5  2.8 ]\n",
            " [2.73 2.96]\n",
            " [4.08 3.12]\n",
            " [2.75 1.5 ]\n",
            " [3.91 2.55]\n",
            " [3.65 3.19]\n",
            " [3.   3.18]\n",
            " [2.67 3.  ]\n",
            " [2.73 3.56]\n",
            " [2.78 4.43]\n",
            " [3.29 3.1 ]\n",
            " [2.77 2.73]\n",
            " [3.33 3.14]\n",
            " [3.39 3.18]\n",
            " [3.37 2.11]\n",
            " [4.08 2.83]\n",
            " [2.99 2.53]\n",
            " [2.83 2.65]\n",
            " [4.1  2.96]\n",
            " [2.78 2.92]\n",
            " [2.98 3.08]\n",
            " [2.73 3.89]\n",
            " [3.46 3.11]\n",
            " [3.   2.83]\n",
            " [3.92 2.62]\n",
            " [3.43 2.89]\n",
            " [2.42 3.  ]\n",
            " [2.82 3.2 ]\n",
            " [2.67 2.38]\n",
            " [3.1  2.79]\n",
            " [2.76 3.05]\n",
            " [2.2  2.97]\n",
            " [2.24 2.58]\n",
            " [4.05 0.5 ]\n",
            " [3.19 2.96]\n",
            " [3.64 2.88]\n",
            " [3.87 3.09]\n",
            " [3.85 2.36]\n",
            " [2.67 3.  ]\n",
            " [3.17 2.78]\n",
            " [3.87 3.19]\n",
            " [3.   2.6 ]\n",
            " [2.67 3.  ]\n",
            " [2.93 3.08]\n",
            " [2.58 3.36]\n",
            " [3.06 2.95]\n",
            " [3.75 2.71]\n",
            " [4.36 3.  ]\n",
            " [2.8  4.2 ]\n",
            " [3.   2.94]\n",
            " [3.23 3.12]\n",
            " [2.77 2.65]\n",
            " [3.   2.  ]\n",
            " [4.08 2.5 ]\n",
            " [2.75 3.5 ]\n",
            " [3.12 3.1 ]\n",
            " [4.25 2.58]\n",
            " [3.75 1.  ]\n",
            " [3.23 2.64]\n",
            " [3.87 3.  ]\n",
            " [3.75 3.  ]\n",
            " [3.76 2.86]\n",
            " [3.05 2.77]\n",
            " [3.79 2.6 ]\n",
            " [2.8  2.38]\n",
            " [3.86 3.08]\n",
            " [3.25 2.2 ]\n",
            " [3.12 2.99]\n",
            " [3.81 2.4 ]\n",
            " [2.85 2.52]\n",
            " [2.75 3.81]\n",
            " [3.   2.5 ]\n",
            " [3.04 2.9 ]\n",
            " [3.39 3.14]\n",
            " [3.11 2.8 ]\n",
            " [3.5  1.38]\n",
            " [2.5  3.  ]\n",
            " [3.86 3.  ]\n",
            " [2.75 2.8 ]\n",
            " [2.6  2.4 ]\n",
            " [3.8  2.9 ]\n",
            " [3.57 3.  ]\n",
            " [3.36 1.  ]\n",
            " [3.27 2.4 ]\n",
            " [3.65 2.8 ]\n",
            " [2.88 3.12]\n",
            " [3.29 2.67]\n",
            " [3.12 2.71]\n",
            " [2.97 2.99]\n",
            " [3.36 2.4 ]\n",
            " [2.   4.33]\n",
            " [3.12 2.64]\n",
            " [2.74 4.06]\n",
            " [2.5  3.54]\n",
            " [3.28 3.17]\n",
            " [2.75 3.34]\n",
            " [3.25 2.  ]\n",
            " [3.7  3.  ]\n",
            " [3.83 2.  ]\n",
            " [2.67 4.43]\n",
            " [3.25 2.86]\n",
            " [2.88 2.62]\n",
            " [3.71 3.  ]\n",
            " [3.72 2.23]\n",
            " [3.02 2.73]\n",
            " [3.43 3.12]\n",
            " [2.78 3.23]\n",
            " [3.53 2.76]\n",
            " [3.   3.17]\n",
            " [2.33 3.71]\n",
            " [2.84 3.28]\n",
            " [2.2  3.  ]\n",
            " [3.15 2.33]\n",
            " [3.87 2.67]\n",
            " [3.44 3.09]\n",
            " [3.37 3.03]\n",
            " [2.58 2.82]\n",
            " [3.2  3.  ]\n",
            " [4.   2.75]\n",
            " [3.56 2.93]\n",
            " [2.94 1.69]\n",
            " [3.33 3.  ]\n",
            " [4.   3.  ]\n",
            " [3.39 3.  ]\n",
            " [2.92 2.75]\n",
            " [3.45 3.17]\n",
            " [3.98 3.  ]\n",
            " [4.   3.18]\n",
            " [4.   3.05]\n",
            " [3.6  2.79]\n",
            " [3.67 3.  ]\n",
            " [3.74 2.  ]\n",
            " [4.   3.  ]\n",
            " [3.75 3.  ]\n",
            " [3.   2.6 ]\n",
            " [3.22 2.6 ]\n",
            " [2.91 2.82]\n",
            " [3.84 2.  ]\n",
            " [3.58 3.13]\n",
            " [3.71 2.75]\n",
            " [3.   2.95]\n",
            " [3.   3.  ]\n",
            " [3.58 2.8 ]\n",
            " [2.33 2.67]\n",
            " [2.17 3.6 ]\n",
            " [4.22 2.75]\n",
            " [2.9  2.68]\n",
            " [3.16 2.43]\n",
            " [3.93 3.  ]\n",
            " [3.73 3.  ]\n",
            " [3.25 2.  ]\n",
            " [4.44 3.  ]\n",
            " [2.1  3.  ]\n",
            " [3.6  3.  ]\n",
            " [3.47 2.88]\n",
            " [4.67 3.  ]\n",
            " [3.33 3.16]\n",
            " [3.42 3.  ]\n",
            " [2.6  2.  ]\n",
            " [2.57 1.88]\n",
            " [3.61 2.6 ]\n",
            " [3.73 2.5 ]\n",
            " [3.57 3.15]\n",
            " [2.7  3.  ]\n",
            " [3.33 3.  ]\n",
            " [3.1  2.96]\n",
            " [2.8  4.06]\n",
            " [4.   2.33]\n",
            " [3.12 3.11]\n",
            " [3.08 3.12]\n",
            " [3.08 3.  ]\n",
            " [4.08 2.5 ]\n",
            " [2.92 3.24]\n",
            " [2.86 3.38]\n",
            " [3.62 3.  ]\n",
            " [2.67 3.  ]\n",
            " [3.81 3.03]\n",
            " [2.52 2.31]\n",
            " [3.31 2.84]\n",
            " [4.07 3.  ]\n",
            " [3.45 3.  ]\n",
            " [4.25 3.  ]\n",
            " [3.3  3.05]\n",
            " [2.37 2.8 ]\n",
            " [3.17 3.15]\n",
            " [3.14 2.84]\n",
            " [3.67 2.67]\n",
            " [2.5  4.25]\n",
            " [3.73 3.07]\n",
            " [3.14 3.1 ]\n",
            " [3.31 3.19]\n",
            " [3.7  1.88]\n",
            " [4.07 3.  ]\n",
            " [4.   2.5 ]\n",
            " [3.   2.85]\n",
            " [3.19 3.19]\n",
            " [3.36 2.86]\n",
            " [2.67 2.9 ]\n",
            " [3.5  2.5 ]\n",
            " [3.38 2.88]\n",
            " [4.31 2.5 ]\n",
            " [3.06 2.94]\n",
            " [3.6  2.83]\n",
            " [3.38 3.03]\n",
            " [2.8  3.83]\n",
            " [3.56 2.82]\n",
            " [3.33 2.67]\n",
            " [3.3  2.64]\n",
            " [2.58 2.8 ]\n",
            " [3.8  2.64]\n",
            " [3.06 3.11]\n",
            " [3.07 3.1 ]\n",
            " [3.88 2.5 ]\n",
            " [2.5  2.88]\n",
            " [4.21 2.5 ]\n",
            " [3.58 2.89]\n",
            " [4.17 2.67]\n",
            " [3.06 2.99]\n",
            " [2.51 2.47]\n",
            " [2.83 2.17]\n",
            " [3.48 2.5 ]\n",
            " [3.71 3.15]\n",
            " [3.86 2.  ]\n",
            " [2.92 2.75]\n",
            " [3.94 3.08]\n",
            " [3.3  3.07]\n",
            " [3.15 2.65]\n",
            " [3.22 2.7 ]\n",
            " [2.5  2.85]\n",
            " [3.6  2.97]\n",
            " [2.52 2.86]\n",
            " [1.3  4.3 ]\n",
            " [3.73 2.94]\n",
            " [2.05 3.53]\n",
            " [4.08 2.25]\n",
            " [3.77 2.8 ]\n",
            " [3.64 3.13]\n",
            " [2.9  2.67]\n",
            " [3.05 2.5 ]\n",
            " [3.1  3.  ]\n",
            " [3.39 3.  ]\n",
            " [3.73 3.  ]\n",
            " [2.71 2.62]\n",
            " [3.13 2.87]\n",
            " [3.05 2.9 ]\n",
            " [3.57 3.  ]\n",
            " [2.88 2.89]\n",
            " [3.5  3.  ]\n",
            " [3.75 3.19]\n",
            " [3.5  2.5 ]\n",
            " [3.5  2.95]\n",
            " [2.   4.5 ]\n",
            " [4.17 3.7 ]\n",
            " [3.16 4.02]]\n"
          ],
          "name": "stdout"
        }
      ]
    },
    {
      "cell_type": "code",
      "metadata": {
        "id": "RVZdS3j8_sse",
        "colab_type": "code",
        "colab": {
          "base_uri": "https://localhost:8080/",
          "height": 295
        },
        "outputId": "abd89a31-3564-4814-80d3-45a78099e253"
      },
      "source": [
        "from sklearn.cluster import KMeans\n",
        "wcss = []\n",
        "for i in range(1, 15):\n",
        "    kmeans = KMeans(n_clusters = i, init = 'k-means++', random_state = 42)\n",
        "    kmeans.fit(X)\n",
        "    wcss.append(kmeans.inertia_)\n",
        "plt.plot(range(1, 15), wcss)\n",
        "plt.title('The Elbow Method')\n",
        "plt.xlabel('Number of clusters')\n",
        "plt.ylabel('WCSS')\n",
        "plt.show()"
      ],
      "execution_count": 19,
      "outputs": [
        {
          "output_type": "display_data",
          "data": {
            "image/png": "[encoded data removed]",
            "text/plain": [
              "<Figure size 432x288 with 1 Axes>"
            ]
          },
          "metadata": {
            "tags": [],
            "needs_background": "light"
          }
        }
      ]
    },
    {
      "cell_type": "code",
      "metadata": {
        "id": "uVd1VOdZABZR",
        "colab_type": "code",
        "colab": {}
      },
      "source": [
        "kmeans = KMeans(n_clusters = 7, init = 'k-means++', random_state = 42)\n",
        "y_kmeans = kmeans.fit_predict(X)"
      ],
      "execution_count": 27,
      "outputs": []
    },
    {
      "cell_type": "code",
      "metadata": {
        "id": "CTNKF_cCAIBX",
        "colab_type": "code",
        "colab": {
          "base_uri": "https://localhost:8080/",
          "height": 295
        },
        "outputId": "293e3c26-02de-4405-8c16-209056688400"
      },
      "source": [
        "plt.scatter(X[y_kmeans == 0, 0], X[y_kmeans == 0, 1], s = 50, c = 'red', label = 'Cluster 1')\n",
        "plt.scatter(X[y_kmeans == 1, 0], X[y_kmeans == 1, 1], s = 50, c = 'blue', label = 'Cluster 2')\n",
        "plt.scatter(X[y_kmeans == 2, 0], X[y_kmeans == 2, 1], s = 50, c = 'green', label = 'Cluster 3')\n",
        "plt.scatter(X[y_kmeans == 3, 0], X[y_kmeans == 3, 1], s = 50, c = 'cyan', label = 'Cluster 4')\n",
        "plt.scatter(X[y_kmeans == 4, 0], X[y_kmeans == 4, 1], s = 50, c = 'magenta', label = 'Cluster 5')\n",
        "plt.scatter(X[y_kmeans == 5, 0], X[y_kmeans == 5, 1], s = 50, c = 'black', label = 'Cluster 6')\n",
        "plt.scatter(X[y_kmeans == 6, 0], X[y_kmeans == 6, 1], s = 50, c = 'purple', label = 'Cluster 7')\n",
        "plt.scatter(kmeans.cluster_centers_[:, 0], kmeans.cluster_centers_[:, 1], s = 150, c = 'yellow', label = 'Centroids')\n",
        "plt.title('Movies')\n",
        "plt.ylabel('avg romance rating')\n",
        "plt.xlabel('avg sc fiction rating')\n",
        "plt.legend()\n",
        "plt.show()"
      ],
      "execution_count": 28,
      "outputs": [
        {
          "output_type": "display_data",
          "data": {
            "image/png": "[encoded data removed]",
            "text/plain": [
              "<Figure size 432x288 with 1 Axes>"
            ]
          },
          "metadata": {
            "tags": [],
            "needs_background": "light"
          }
        }
      ]
    }
  ]
}